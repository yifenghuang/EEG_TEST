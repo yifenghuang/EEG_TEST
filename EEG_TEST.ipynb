{
 "cells": [
  {
   "cell_type": "code",
   "execution_count": 1,
   "metadata": {},
   "outputs": [],
   "source": [
    "import logging\n",
    "import os.path\n",
    "import time\n",
    "from collections import OrderedDict\n",
    "import sys\n",
    "\n",
    "import numpy as np\n",
    "import torch.nn.functional as F\n",
    "from torch import optim\n",
    "\n",
    "from braindecode.models.deep4 import Deep4Net\n",
    "from braindecode.datasets.bcic_iv_2a import BCICompetition4Set2A\n",
    "from braindecode.experiments.experiment import Experiment\n",
    "from braindecode.experiments.monitors import LossMonitor, MisclassMonitor, \\\n",
    "    RuntimeMonitor\n",
    "from braindecode.experiments.stopcriteria import MaxEpochs, NoDecrease, Or\n",
    "from braindecode.datautil.iterators import BalancedBatchSizeIterator\n",
    "from braindecode.models.shallow_fbcsp import ShallowFBCSPNet\n",
    "from braindecode.datautil.splitters import split_into_two_sets\n",
    "from braindecode.torch_ext.constraints import MaxNormDefaultConstraint\n",
    "from braindecode.torch_ext.util import set_random_seeds, np_to_var\n",
    "from braindecode.mne_ext.signalproc import mne_apply\n",
    "from braindecode.datautil.signalproc import (bandpass_cnt,\n",
    "                                             exponential_running_standardize)\n",
    "from braindecode.datautil.trial_segment import create_signal_target_from_raw_mne\n",
    "log = logging.getLogger(__name__)"
   ]
  },
  {
   "cell_type": "code",
   "execution_count": 10,
   "metadata": {},
   "outputs": [],
   "source": [
    "def get_data(data_folder, subject_id, low_cut_hz):\n",
    "    train_filename = 'A{:02d}T.gdf'.format(subject_id)\n",
    "    test_filename = 'A{:02d}E.gdf'.format(subject_id)\n",
    "    train_filepath = os.path.join(data_folder, train_filename)\n",
    "    test_filepath = os.path.join(data_folder, test_filename)\n",
    "    train_label_filepath = train_filepath.replace('.gdf', '.mat')\n",
    "    test_label_filepath = test_filepath.replace('.gdf', '.mat')\n",
    "\n",
    "    train_loader = BCICompetition4Set2A(\n",
    "        train_filepath, labels_filename=train_label_filepath)\n",
    "    test_loader = BCICompetition4Set2A(\n",
    "        test_filepath, labels_filename=test_label_filepath)\n",
    "    train_cnt = train_loader.load()\n",
    "    test_cnt = test_loader.load()\n",
    "\n",
    "    # Preprocessing\n",
    "\n",
    "    train_cnt = train_cnt.drop_channels(['STI 014', 'EOG-left',\n",
    "                                         'EOG-central', 'EOG-right'])\n",
    "    assert len(train_cnt.ch_names) == 22\n",
    "    # lets convert to millvolt for numerical stability of next operations\n",
    "    train_cnt = mne_apply(lambda a: a * 1e6, train_cnt)\n",
    "    train_cnt = mne_apply(\n",
    "        lambda a: bandpass_cnt(a, low_cut_hz, 38, train_cnt.info['sfreq'],\n",
    "                               filt_order=3,\n",
    "                               axis=1), train_cnt)\n",
    "    train_cnt = mne_apply(\n",
    "        lambda a: exponential_running_standardize(a.T, factor_new=1e-3,\n",
    "                                                  init_block_size=1000,\n",
    "                                                  eps=1e-4).T,\n",
    "        train_cnt)\n",
    "\n",
    "    test_cnt = test_cnt.drop_channels(['STI 014', 'EOG-left',\n",
    "                                       'EOG-central', 'EOG-right'])\n",
    "    assert len(test_cnt.ch_names) == 22\n",
    "    test_cnt = mne_apply(lambda a: a * 1e6, test_cnt)\n",
    "    test_cnt = mne_apply(\n",
    "        lambda a: bandpass_cnt(a, low_cut_hz, 38, test_cnt.info['sfreq'],\n",
    "                               filt_order=3,\n",
    "                               axis=1), test_cnt)\n",
    "    test_cnt = mne_apply(\n",
    "        lambda a: exponential_running_standardize(a.T, factor_new=1e-3,\n",
    "                                                  init_block_size=1000,\n",
    "                                                  eps=1e-4).T,\n",
    "        test_cnt)\n",
    "\n",
    "    marker_def = OrderedDict([('Left Hand', [1]), ('Right Hand', [2],),\n",
    "                              ('Foot', [3]), ('Tongue', [4])])\n",
    "    ival = [-500, 4000]\n",
    "\n",
    "    train_set = create_signal_target_from_raw_mne(train_cnt, marker_def, ival)\n",
    "    test_set = create_signal_target_from_raw_mne(test_cnt, marker_def, ival)\n",
    "\n",
    "    return train_set, test_set"
   ]
  },
  {
   "cell_type": "code",
   "execution_count": 11,
   "metadata": {},
   "outputs": [
    {
     "name": "stdout",
     "output_type": "stream",
     "text": [
      "Extracting EDF parameters from ./EEG-data/BCICIV_2a_gdf/A01T.gdf...\n",
      "GDF file detected\n",
      "Overlapping events detected. Use find_edf_events for the original events.\n",
      "Setting channel info structure...\n",
      "Interpolating stim channel. Events may jitter.\n",
      "Creating raw.info structure...\n",
      "Channel names are not unique, found duplicates for: {'EEG'}. Applying running numbers for duplicates.\n",
      "Reading 0 ... 672527  =      0.000 ...  2690.108 secs...\n"
     ]
    },
    {
     "name": "stderr",
     "output_type": "stream",
     "text": [
      "/home/hyf/tensorflow/lib/python3.6/site-packages/mne/io/edf/edf.py:1028: DeprecationWarning: The binary mode of fromstring is deprecated, as it behaves surprisingly on unicode inputs. Use frombuffer instead\n",
      "  etmode = np.fromstring(etmode, np.uint8).tolist()[0]\n",
      "/home/hyf/tensorflow/lib/python3.6/site-packages/braindecode/datasets/bcic_iv_2a.py:20: RuntimeWarning: Overlapping events detected. Use find_edf_events for the original events.\n",
      "  raw_edf = mne.io.read_raw_edf(self.filename, stim_channel='auto')\n",
      "/home/hyf/tensorflow/lib/python3.6/site-packages/braindecode/datasets/bcic_iv_2a.py:20: RuntimeWarning: Interpolating stim channel. Events may jitter.\n",
      "  raw_edf = mne.io.read_raw_edf(self.filename, stim_channel='auto')\n",
      "/home/hyf/tensorflow/lib/python3.6/site-packages/braindecode/datasets/bcic_iv_2a.py:20: RuntimeWarning: Channel names are not unique, found duplicates for: {'EEG'}. Applying running numbers for duplicates.\n",
      "  raw_edf = mne.io.read_raw_edf(self.filename, stim_channel='auto')\n"
     ]
    },
    {
     "name": "stdout",
     "output_type": "stream",
     "text": [
      "Extracting EDF parameters from ./EEG-data/BCICIV_2a_gdf/A01E.gdf...\n",
      "GDF file detected\n",
      "Overlapping events detected. Use find_edf_events for the original events.\n",
      "Setting channel info structure...\n",
      "Interpolating stim channel. Events may jitter.\n",
      "Creating raw.info structure...\n",
      "Channel names are not unique, found duplicates for: {'EEG'}. Applying running numbers for duplicates.\n",
      "Reading 0 ... 686999  =      0.000 ...  2747.996 secs...\n"
     ]
    },
    {
     "name": "stderr",
     "output_type": "stream",
     "text": [
      "/home/hyf/tensorflow/lib/python3.6/site-packages/mne/io/edf/edf.py:1028: DeprecationWarning: The binary mode of fromstring is deprecated, as it behaves surprisingly on unicode inputs. Use frombuffer instead\n",
      "  etmode = np.fromstring(etmode, np.uint8).tolist()[0]\n",
      "/home/hyf/tensorflow/lib/python3.6/site-packages/braindecode/datasets/bcic_iv_2a.py:20: RuntimeWarning: Overlapping events detected. Use find_edf_events for the original events.\n",
      "  raw_edf = mne.io.read_raw_edf(self.filename, stim_channel='auto')\n",
      "/home/hyf/tensorflow/lib/python3.6/site-packages/braindecode/datasets/bcic_iv_2a.py:20: RuntimeWarning: Interpolating stim channel. Events may jitter.\n",
      "  raw_edf = mne.io.read_raw_edf(self.filename, stim_channel='auto')\n",
      "/home/hyf/tensorflow/lib/python3.6/site-packages/braindecode/datasets/bcic_iv_2a.py:20: RuntimeWarning: Channel names are not unique, found duplicates for: {'EEG'}. Applying running numbers for duplicates.\n",
      "  raw_edf = mne.io.read_raw_edf(self.filename, stim_channel='auto')\n"
     ]
    }
   ],
   "source": [
    "trset,teset = get_data('./EEG-data/BCICIV_2a_gdf/', 1, 4)"
   ]
  },
  {
   "cell_type": "code",
   "execution_count": 17,
   "metadata": {},
   "outputs": [
    {
     "data": {
      "text/plain": [
       "(288, 22, 1125)"
      ]
     },
     "execution_count": 17,
     "metadata": {},
     "output_type": "execute_result"
    }
   ],
   "source": [
    "trset.X.shape"
   ]
  },
  {
   "cell_type": "code",
   "execution_count": 18,
   "metadata": {},
   "outputs": [
    {
     "data": {
      "text/plain": [
       "(288,)"
      ]
     },
     "execution_count": 18,
     "metadata": {},
     "output_type": "execute_result"
    }
   ],
   "source": [
    "trset.y.shape"
   ]
  },
  {
   "cell_type": "code",
   "execution_count": 19,
   "metadata": {},
   "outputs": [
    {
     "name": "stderr",
     "output_type": "stream",
     "text": [
      "/home/hyf/tensorflow/lib/python3.6/site-packages/h5py/__init__.py:36: FutureWarning: Conversion of the second argument of issubdtype from `float` to `np.floating` is deprecated. In future, it will be treated as `np.float64 == np.dtype(float).type`.\n",
      "  from ._conv import register_converters as _register_converters\n",
      "Using TensorFlow backend.\n"
     ]
    }
   ],
   "source": [
    "from keras.models import Sequential, Model\n",
    "from keras.layers import Flatten, Dense, Activation, Dropout\n",
    "from keras.layers import Lambda\n",
    "from keras.layers.convolutional import Convolution2D\n",
    "from keras.layers.pooling import MaxPooling2D\n",
    "from keras.layers import Cropping2D"
   ]
  },
  {
   "cell_type": "code",
   "execution_count": null,
   "metadata": {},
   "outputs": [],
   "source": []
  },
  {
   "cell_type": "code",
   "execution_count": null,
   "metadata": {},
   "outputs": [],
   "source": []
  }
 ],
 "metadata": {
  "kernelspec": {
   "display_name": "Python 3",
   "language": "python",
   "name": "python3"
  },
  "language_info": {
   "codemirror_mode": {
    "name": "ipython",
    "version": 3
   },
   "file_extension": ".py",
   "mimetype": "text/x-python",
   "name": "python",
   "nbconvert_exporter": "python",
   "pygments_lexer": "ipython3",
   "version": "3.6.5"
  }
 },
 "nbformat": 4,
 "nbformat_minor": 2
}
